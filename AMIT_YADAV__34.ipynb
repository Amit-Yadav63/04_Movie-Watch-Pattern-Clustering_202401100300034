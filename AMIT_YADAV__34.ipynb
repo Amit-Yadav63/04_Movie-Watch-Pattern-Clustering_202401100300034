{
  "nbformat": 4,
  "nbformat_minor": 0,
  "metadata": {
    "colab": {
      "provenance": []
    },
    "kernelspec": {
      "name": "python3",
      "display_name": "Python 3"
    },
    "language_info": {
      "name": "python"
    }
  },
  "cells": [
    {
      "cell_type": "code",
      "execution_count": 10,
      "metadata": {
        "id": "ckuYBQZsBUfz"
      },
      "outputs": [],
      "source": [
        "#importing libraries for data manipulation, k-means used for clustering\n",
        "\n",
        "import pandas as pd\n",
        "from sklearn.cluster import KMeans\n",
        "from sklearn.preprocessing import LabelEncoder\n",
        "\n",
        "\n"
      ]
    },
    {
      "cell_type": "code",
      "source": [
        "# 1. Data Preparation\n",
        "df = pd.read_csv(\"/content/movie_watch.csv\")  # Replace with your actual file path\n",
        "le = LabelEncoder()\n",
        "df['genre_encoded'] = le.fit_transform(df['genre_preference'])\n",
        "features = df[['watch_time_hour', 'genre_encoded', 'avg_rating_given']]\n"
      ],
      "metadata": {
        "id": "2GuWDO3HBX3w"
      },
      "execution_count": 14,
      "outputs": []
    },
    {
      "cell_type": "code",
      "source": [
        "# 2. Clustering\n",
        "kmeans = KMeans(n_clusters=3)  # You can change the number of clusters here\n",
        "kmeans.fit(features)\n",
        "labels = kmeans.labels_"
      ],
      "metadata": {
        "id": "5XK9fy4mBa-K"
      },
      "execution_count": 15,
      "outputs": []
    },
    {
      "cell_type": "code",
      "source": [
        "# Assign cluster labels to the DataFrame\n",
        "df['cluster'] = labels\n",
        "\n"
      ],
      "metadata": {
        "id": "MSBSoJsbBeKV"
      },
      "execution_count": 16,
      "outputs": []
    },
    {
      "cell_type": "code",
      "source": [
        "# Print the DataFrame with cluster assignments\n",
        "print(df[['watch_time_hour', 'genre_encoded', 'avg_rating_given', 'cluster']])\n"
      ],
      "metadata": {
        "colab": {
          "base_uri": "https://localhost:8080/"
        },
        "id": "LTd1VNcnBhwR",
        "outputId": "87c43a8e-21e5-4b4a-8bf8-c4b31a06c252"
      },
      "execution_count": 17,
      "outputs": [
        {
          "output_type": "stream",
          "name": "stdout",
          "text": [
            "    watch_time_hour  genre_encoded  avg_rating_given  cluster\n",
            "0                13              0          2.037554        0\n",
            "1                 4              1          1.350365        1\n",
            "2                15              3          1.359665        0\n",
            "3                14              3          1.772998        0\n",
            "4                14              1          1.202237        0\n",
            "..              ...            ...               ...      ...\n",
            "95                8              0          1.073545        1\n",
            "96               22              1          2.856267        2\n",
            "97                9              0          4.772248        0\n",
            "98               18              0          2.295278        2\n",
            "99               14              3          3.644563        0\n",
            "\n",
            "[100 rows x 4 columns]\n"
          ]
        }
      ]
    }
  ]
}